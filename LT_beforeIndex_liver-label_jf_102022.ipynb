{
 "cells": [
  {
   "cell_type": "markdown",
   "metadata": {},
   "source": [
    "## Identify patients' diagnosis before liver tranplation index date"
   ]
  },
  {
   "cell_type": "code",
   "execution_count": 8,
   "metadata": {},
   "outputs": [],
   "source": [
    "in_path = '../Liver_optum/outputs/'"
   ]
  },
  {
   "cell_type": "code",
   "execution_count": 5,
   "metadata": {},
   "outputs": [],
   "source": [
    "import pandas as pd\n",
    "import numpy as np"
   ]
  },
  {
   "cell_type": "markdown",
   "metadata": {},
   "source": [
    "# Filter diagnosis records before Index Day"
   ]
  },
  {
   "cell_type": "code",
   "execution_count": 35,
   "metadata": {},
   "outputs": [
    {
     "name": "stdout",
     "output_type": "stream",
     "text": [
      "<class 'pandas.core.frame.DataFrame'>\n",
      "RangeIndex: 16016916 entries, 0 to 16016915\n",
      "Data columns (total 4 columns):\n",
      " #   Column    Dtype \n",
      "---  ------    ----- \n",
      " 0   patid     int64 \n",
      " 1   fst_dt    object\n",
      " 2   icd_flag  int64 \n",
      " 3   diag      object\n",
      "dtypes: int64(2), object(2)\n",
      "memory usage: 488.8+ MB\n"
     ]
    }
   ],
   "source": [
    "diag = pd.read_csv(in_path+\"final_diag_all.csv\", sep = \"\\t\")\n",
    "diag.info()"
   ]
  },
  {
   "cell_type": "markdown",
   "metadata": {},
   "source": [
    "# Define inclusion timestamp as 3 year before index day"
   ]
  },
  {
   "cell_type": "code",
   "execution_count": 56,
   "metadata": {},
   "outputs": [
    {
     "data": {
      "text/plain": [
       "-1095"
      ]
     },
     "execution_count": 56,
     "metadata": {},
     "output_type": "execute_result"
    }
   ],
   "source": [
    "b4 = -365*3\n",
    "b4"
   ]
  },
  {
   "cell_type": "code",
   "execution_count": 58,
   "metadata": {},
   "outputs": [],
   "source": [
    "diag_idx['b4Idx3yr'] =np.where(diag_idx.day_gap.between(b4,-1),1,0)"
   ]
  },
  {
   "cell_type": "markdown",
   "metadata": {},
   "source": [
    "Generate table df that contains only inclusion diagnosis event"
   ]
  },
  {
   "cell_type": "code",
   "execution_count": null,
   "metadata": {},
   "outputs": [],
   "source": [
    "df = diag_idx.loc[diag_idx.b4Idx3yr==1].reset_index(drop=True)\n"
   ]
  },
  {
   "cell_type": "markdown",
   "metadata": {},
   "source": [
    "## Label diagnosis table for patients"
   ]
  },
  {
   "cell_type": "code",
   "execution_count": 61,
   "metadata": {},
   "outputs": [],
   "source": [
    "liver = [\"Z4823\",\"Z944\",\"T8649\",\"T8640\",\"T8643\",\"V427\",\"99682\",\"47133\",\"47135\",\"47140\",\"47141\",\"47142\",\"47143\",\"47144\",\"47145\",\"47146\",\"47147\",\"0FY00Z0\",\"50.5\"]\n",
    "\n",
    "\n",
    "atrial_fibrillation = [\"I480\",\"I4891\",\"I482\",\"I4819\",\"I4820\",\"I481\",\"I489\",\"I48\",\"I4811\",\"I4821\",\"I483\",\"I484\",\"I4892\", \"42731\", \"42732\"]\n"
   ]
  },
  {
   "cell_type": "markdown",
   "metadata": {},
   "source": [
    "### check if any patient did the liver transplant before index"
   ]
  },
  {
   "cell_type": "code",
   "execution_count": null,
   "metadata": {},
   "outputs": [],
   "source": [
    "df[\"liver\"] = df[\"diag\"].apply(lambda x:1 if x in liver else 0)"
   ]
  },
  {
   "cell_type": "code",
   "execution_count": 67,
   "metadata": {},
   "outputs": [
    {
     "data": {
      "text/plain": [
       "0    3869795\n",
       "Name: liver, dtype: int64"
      ]
     },
     "execution_count": 67,
     "metadata": {},
     "output_type": "execute_result"
    }
   ],
   "source": [
    "df.liver.value_counts()"
   ]
  },
  {
   "cell_type": "code",
   "execution_count": 71,
   "metadata": {},
   "outputs": [],
   "source": [
    "del df['liver']\n",
    "del df['b4Idx3yr']"
   ]
  },
  {
   "cell_type": "code",
   "execution_count": 73,
   "metadata": {},
   "outputs": [],
   "source": [
    "df.to_csv(in_path+'temp_diag_3yr_b4index.csv', index=False)"
   ]
  },
  {
   "cell_type": "code",
   "execution_count": 75,
   "metadata": {},
   "outputs": [],
   "source": [
    "Myocardial_Infarction_icd10 = [\"I219\",\"I21A9\",\"I21A1\",\"I21\",\"I214\",\"I210\",\"I211\",\"I212\",\"I222\",\"I213\",\"I228\",\"I22\",\"I2111\",\"I230\",\"I2129\",\"I221\",\"I2121\",\"I232\",\"I234\",\"I220\",\"I2119\",\"I2109\",\"I231\",\"I2101\",\"I235\",\"I236\",\"I2102\",\"I21A\"]\n",
    "Myocardial_Infarction_icd9 = [\"41090\",\"41091\",\"41092\",\"41071\",\"41051\",\"41061\",\"41081\",\"41031\",\"42979\",\"41021\",\"41041\",\"42971\",\"4295\",\"41001\",\"41011\",\"4296\",\"41002\",\"41010\",\"41012\",\"41020\",\"41022\",\"41030\",\"41032\",\"41040\",\"41042\",\"41050\",\"41052\",\"41060\",\"41062\",\"41070\",\"41072\",\"41080\",\"41082\"]\n",
    "Myocardial_Infarction = Myocardial_Infarction_icd10 + Myocardial_Infarction_icd9\n",
    "\n",
    "\n",
    "df[\"MI_b4Idx_oldCode\"] = df[\"diag\"].apply(lambda x:1 if x in Myocardial_Infarction else 0)"
   ]
  },
  {
   "cell_type": "code",
   "execution_count": 77,
   "metadata": {},
   "outputs": [],
   "source": [
    "Myocardial_Infarction_index_day = df.loc[(df[\"MI_b4Idx_oldCode\"] == 1)].groupby(\"patid\").fst_dt.min().reset_index().rename(columns={'fst_dt':'MI_b4Idx_oldCode_index_day'}).drop_duplicates()\n"
   ]
  },
  {
   "cell_type": "code",
   "execution_count": 79,
   "metadata": {},
   "outputs": [],
   "source": [
    "Myocardial_Infarction_index_day.to_csv(in_path+'temp_MI_b4Idx_oldCode_index_day.csv',index=False)"
   ]
  },
  {
   "cell_type": "markdown",
   "metadata": {},
   "source": [
    "## Process with new ICD codes"
   ]
  },
  {
   "cell_type": "code",
   "execution_count": 91,
   "metadata": {},
   "outputs": [
    {
     "data": {
      "text/plain": [
       "['alcohol_9.pickle',\n",
       " 'alcohol_10.pickle',\n",
       " 'CAD_9.pickle',\n",
       " 'CAD_10.pickle',\n",
       " 'hypertension_9.pickle',\n",
       " 'hypertension_10.pickle',\n",
       " 't2dm_9.pickle',\n",
       " 't2dm_10.pickle',\n",
       " 'MI_9.pickle',\n",
       " 'MI_10.pickle',\n",
       " 'tobacco_9.pickle',\n",
       " 'tobacco_10.pickle',\n",
       " 'PVD_9.pickle',\n",
       " 'PVD_10.pickle',\n",
       " 'dyslipidemia_9.pickle',\n",
       " 'dyslipidemia_10.pickle',\n",
       " 'stroke_9.pickle',\n",
       " 'phtn_9.pickle',\n",
       " 'bmi_9.pickle',\n",
       " 'bmi_10.pickle',\n",
       " 'stroke_10.pickle',\n",
       " 'phtn_10.pickle']"
      ]
     },
     "execution_count": 91,
     "metadata": {},
     "output_type": "execute_result"
    }
   ],
   "source": [
    "import os\n",
    "\n",
    "def patient(df, ls):\n",
    "    # patient level distribution\n",
    "    cl = ['patid',ls]\n",
    "    total_pat = df.patid.nunique()\n",
    "    check = df[cl].drop_duplicates().reset_index(drop=True)\n",
    "    gb = pd.DataFrame(check.groupby(check[ls]).count().to_records())\n",
    "    gb['rate'] = (gb['patid']/total_pat)*100\n",
    "    return gb.style.format({'rate': '{0:.4}%'})\n",
    "\n",
    "icd_path = '/ctao_shared_data/Liver_optum/dict_icd/'\n",
    "dx_path = icd_path+'dx/'\n",
    "os.listdir(dx_path)"
   ]
  },
  {
   "cell_type": "markdown",
   "metadata": {},
   "source": [
    "### Alcohol before index"
   ]
  },
  {
   "cell_type": "code",
   "execution_count": 88,
   "metadata": {},
   "outputs": [
    {
     "data": {
      "text/plain": [
       "(10, 62, 72, ['30502', '30500', '30390'])"
      ]
     },
     "execution_count": 88,
     "metadata": {},
     "output_type": "execute_result"
    }
   ],
   "source": [
    "al_9 = pd.read_pickle(dx_path+'alcohol_9.pickle')\n",
    "al_10 = pd.read_pickle(dx_path+'alcohol_10.pickle')\n",
    "al_ls = al_9 + al_10\n",
    "len(al_9), len(al_10),len(al_ls), al_ls [:3]"
   ]
  },
  {
   "cell_type": "code",
   "execution_count": 92,
   "metadata": {},
   "outputs": [
    {
     "data": {
      "text/html": [
       "<style  type=\"text/css\" >\n",
       "</style><table id=\"T_81cd4242_606e_11ed_b736_259e02b5cf17\" ><thead>    <tr>        <th class=\"blank level0\" ></th>        <th class=\"col_heading level0 col0\" >alcohol_b4idx</th>        <th class=\"col_heading level0 col1\" >patid</th>        <th class=\"col_heading level0 col2\" >rate</th>    </tr></thead><tbody>\n",
       "                <tr>\n",
       "                        <th id=\"T_81cd4242_606e_11ed_b736_259e02b5cf17level0_row0\" class=\"row_heading level0 row0\" >0</th>\n",
       "                        <td id=\"T_81cd4242_606e_11ed_b736_259e02b5cf17row0_col0\" class=\"data row0 col0\" >0</td>\n",
       "                        <td id=\"T_81cd4242_606e_11ed_b736_259e02b5cf17row0_col1\" class=\"data row0 col1\" >16558</td>\n",
       "                        <td id=\"T_81cd4242_606e_11ed_b736_259e02b5cf17row0_col2\" class=\"data row0 col2\" >99.98%</td>\n",
       "            </tr>\n",
       "            <tr>\n",
       "                        <th id=\"T_81cd4242_606e_11ed_b736_259e02b5cf17level0_row1\" class=\"row_heading level0 row1\" >1</th>\n",
       "                        <td id=\"T_81cd4242_606e_11ed_b736_259e02b5cf17row1_col0\" class=\"data row1 col0\" >1</td>\n",
       "                        <td id=\"T_81cd4242_606e_11ed_b736_259e02b5cf17row1_col1\" class=\"data row1 col1\" >1941</td>\n",
       "                        <td id=\"T_81cd4242_606e_11ed_b736_259e02b5cf17row1_col2\" class=\"data row1 col2\" >11.72%</td>\n",
       "            </tr>\n",
       "    </tbody></table>"
      ],
      "text/plain": [
       "<pandas.io.formats.style.Styler at 0x7f1a13364700>"
      ]
     },
     "execution_count": 92,
     "metadata": {},
     "output_type": "execute_result"
    }
   ],
   "source": [
    "df['alcohol_b4idx'] = np.where(df.diag.isin(al_ls),1,0)\n",
    "patient(df, 'alcohol_b4idx')"
   ]
  },
  {
   "cell_type": "markdown",
   "metadata": {},
   "source": [
    "### CAD"
   ]
  },
  {
   "cell_type": "code",
   "execution_count": 95,
   "metadata": {},
   "outputs": [
    {
     "data": {
      "text/plain": [
       "(14, 16, 30, ['30502', '30500', '30390'])"
      ]
     },
     "execution_count": 95,
     "metadata": {},
     "output_type": "execute_result"
    }
   ],
   "source": [
    "fn = 'CAD'\n",
    "ls_9 = pd.read_pickle(dx_path+fn+'_9.pickle')\n",
    "ls_10 = pd.read_pickle(dx_path+fn+'_10.pickle')\n",
    "all_ls = ls_9 + ls_10\n",
    "len(ls_9), len(ls_10),len(all_ls), al_ls [:3]"
   ]
  },
  {
   "cell_type": "code",
   "execution_count": 96,
   "metadata": {},
   "outputs": [
    {
     "data": {
      "text/html": [
       "<style  type=\"text/css\" >\n",
       "</style><table id=\"T_5b0bf102_606f_11ed_b736_259e02b5cf17\" ><thead>    <tr>        <th class=\"blank level0\" ></th>        <th class=\"col_heading level0 col0\" >CAD_b4idx</th>        <th class=\"col_heading level0 col1\" >patid</th>        <th class=\"col_heading level0 col2\" >rate</th>    </tr></thead><tbody>\n",
       "                <tr>\n",
       "                        <th id=\"T_5b0bf102_606f_11ed_b736_259e02b5cf17level0_row0\" class=\"row_heading level0 row0\" >0</th>\n",
       "                        <td id=\"T_5b0bf102_606f_11ed_b736_259e02b5cf17row0_col0\" class=\"data row0 col0\" >0</td>\n",
       "                        <td id=\"T_5b0bf102_606f_11ed_b736_259e02b5cf17row0_col1\" class=\"data row0 col1\" >16559</td>\n",
       "                        <td id=\"T_5b0bf102_606f_11ed_b736_259e02b5cf17row0_col2\" class=\"data row0 col2\" >99.98%</td>\n",
       "            </tr>\n",
       "            <tr>\n",
       "                        <th id=\"T_5b0bf102_606f_11ed_b736_259e02b5cf17level0_row1\" class=\"row_heading level0 row1\" >1</th>\n",
       "                        <td id=\"T_5b0bf102_606f_11ed_b736_259e02b5cf17row1_col0\" class=\"data row1 col0\" >1</td>\n",
       "                        <td id=\"T_5b0bf102_606f_11ed_b736_259e02b5cf17row1_col1\" class=\"data row1 col1\" >2944</td>\n",
       "                        <td id=\"T_5b0bf102_606f_11ed_b736_259e02b5cf17row1_col2\" class=\"data row1 col2\" >17.78%</td>\n",
       "            </tr>\n",
       "    </tbody></table>"
      ],
      "text/plain": [
       "<pandas.io.formats.style.Styler at 0x7f1ab71fa0a0>"
      ]
     },
     "execution_count": 96,
     "metadata": {},
     "output_type": "execute_result"
    }
   ],
   "source": [
    "df['CAD_b4idx'] = np.where(df.diag.isin(all_ls),1,0)\n",
    "patient(df, 'CAD_b4idx')"
   ]
  },
  {
   "cell_type": "markdown",
   "metadata": {},
   "source": [
    "### Hypertension"
   ]
  },
  {
   "cell_type": "code",
   "execution_count": 97,
   "metadata": {},
   "outputs": [
    {
     "data": {
      "text/plain": [
       "(50, 1, 51, ['30502', '30500', '30390'])"
      ]
     },
     "execution_count": 97,
     "metadata": {},
     "output_type": "execute_result"
    }
   ],
   "source": [
    "fn = 'hypertension'\n",
    "ls_9 = pd.read_pickle(dx_path+fn+'_9.pickle')\n",
    "ls_10 = pd.read_pickle(dx_path+fn+'_10.pickle')\n",
    "all_ls = ls_9 + ls_10\n",
    "len(ls_9), len(ls_10),len(all_ls), al_ls [:3]"
   ]
  },
  {
   "cell_type": "code",
   "execution_count": 98,
   "metadata": {},
   "outputs": [
    {
     "data": {
      "text/html": [
       "<style  type=\"text/css\" >\n",
       "</style><table id=\"T_94b088aa_606f_11ed_b736_259e02b5cf17\" ><thead>    <tr>        <th class=\"blank level0\" ></th>        <th class=\"col_heading level0 col0\" >hypertension_b4idx</th>        <th class=\"col_heading level0 col1\" >patid</th>        <th class=\"col_heading level0 col2\" >rate</th>    </tr></thead><tbody>\n",
       "                <tr>\n",
       "                        <th id=\"T_94b088aa_606f_11ed_b736_259e02b5cf17level0_row0\" class=\"row_heading level0 row0\" >0</th>\n",
       "                        <td id=\"T_94b088aa_606f_11ed_b736_259e02b5cf17row0_col0\" class=\"data row0 col0\" >0</td>\n",
       "                        <td id=\"T_94b088aa_606f_11ed_b736_259e02b5cf17row0_col1\" class=\"data row0 col1\" >16549</td>\n",
       "                        <td id=\"T_94b088aa_606f_11ed_b736_259e02b5cf17row0_col2\" class=\"data row0 col2\" >99.92%</td>\n",
       "            </tr>\n",
       "            <tr>\n",
       "                        <th id=\"T_94b088aa_606f_11ed_b736_259e02b5cf17level0_row1\" class=\"row_heading level0 row1\" >1</th>\n",
       "                        <td id=\"T_94b088aa_606f_11ed_b736_259e02b5cf17row1_col0\" class=\"data row1 col0\" >1</td>\n",
       "                        <td id=\"T_94b088aa_606f_11ed_b736_259e02b5cf17row1_col1\" class=\"data row1 col1\" >9105</td>\n",
       "                        <td id=\"T_94b088aa_606f_11ed_b736_259e02b5cf17row1_col2\" class=\"data row1 col2\" >54.98%</td>\n",
       "            </tr>\n",
       "    </tbody></table>"
      ],
      "text/plain": [
       "<pandas.io.formats.style.Styler at 0x7f1ad0913670>"
      ]
     },
     "execution_count": 98,
     "metadata": {},
     "output_type": "execute_result"
    }
   ],
   "source": [
    "df['hypertension_b4idx'] = np.where(df.diag.isin(all_ls),1,0)\n",
    "patient(df, 'hypertension_b4idx')"
   ]
  },
  {
   "cell_type": "markdown",
   "metadata": {},
   "source": [
    "### Diabete"
   ]
  },
  {
   "cell_type": "code",
   "execution_count": 99,
   "metadata": {},
   "outputs": [
    {
     "data": {
      "text/plain": [
       "(30, 116, 146, ['30502', '30500', '30390'])"
      ]
     },
     "execution_count": 99,
     "metadata": {},
     "output_type": "execute_result"
    }
   ],
   "source": [
    "fn = 't2dm'\n",
    "ls_9 = pd.read_pickle(dx_path+fn+'_9.pickle')\n",
    "ls_10 = pd.read_pickle(dx_path+fn+'_10.pickle')\n",
    "all_ls = ls_9 + ls_10\n",
    "len(ls_9), len(ls_10),len(all_ls), al_ls [:3]"
   ]
  },
  {
   "cell_type": "code",
   "execution_count": 100,
   "metadata": {},
   "outputs": [
    {
     "data": {
      "text/html": [
       "<style  type=\"text/css\" >\n",
       "</style><table id=\"T_e4f8af5e_606f_11ed_b736_259e02b5cf17\" ><thead>    <tr>        <th class=\"blank level0\" ></th>        <th class=\"col_heading level0 col0\" >diabeteMCIcode_b4idx</th>        <th class=\"col_heading level0 col1\" >patid</th>        <th class=\"col_heading level0 col2\" >rate</th>    </tr></thead><tbody>\n",
       "                <tr>\n",
       "                        <th id=\"T_e4f8af5e_606f_11ed_b736_259e02b5cf17level0_row0\" class=\"row_heading level0 row0\" >0</th>\n",
       "                        <td id=\"T_e4f8af5e_606f_11ed_b736_259e02b5cf17row0_col0\" class=\"data row0 col0\" >0</td>\n",
       "                        <td id=\"T_e4f8af5e_606f_11ed_b736_259e02b5cf17row0_col1\" class=\"data row0 col1\" >16525</td>\n",
       "                        <td id=\"T_e4f8af5e_606f_11ed_b736_259e02b5cf17row0_col2\" class=\"data row0 col2\" >99.78%</td>\n",
       "            </tr>\n",
       "            <tr>\n",
       "                        <th id=\"T_e4f8af5e_606f_11ed_b736_259e02b5cf17level0_row1\" class=\"row_heading level0 row1\" >1</th>\n",
       "                        <td id=\"T_e4f8af5e_606f_11ed_b736_259e02b5cf17row1_col0\" class=\"data row1 col0\" >1</td>\n",
       "                        <td id=\"T_e4f8af5e_606f_11ed_b736_259e02b5cf17row1_col1\" class=\"data row1 col1\" >6002</td>\n",
       "                        <td id=\"T_e4f8af5e_606f_11ed_b736_259e02b5cf17row1_col2\" class=\"data row1 col2\" >36.24%</td>\n",
       "            </tr>\n",
       "    </tbody></table>"
      ],
      "text/plain": [
       "<pandas.io.formats.style.Styler at 0x7f1ab71ffc40>"
      ]
     },
     "execution_count": 100,
     "metadata": {},
     "output_type": "execute_result"
    }
   ],
   "source": [
    "df['diabeteMCIcode_b4idx'] = np.where(df.diag.isin(all_ls),1,0)\n",
    "patient(df, 'diabeteMCIcode_b4idx')"
   ]
  },
  {
   "cell_type": "markdown",
   "metadata": {},
   "source": [
    "### MI "
   ]
  },
  {
   "cell_type": "code",
   "execution_count": 101,
   "metadata": {},
   "outputs": [
    {
     "data": {
      "text/plain": [
       "(1, 1, 2, ['30502', '30500', '30390'])"
      ]
     },
     "execution_count": 101,
     "metadata": {},
     "output_type": "execute_result"
    }
   ],
   "source": [
    "fn = 'MI'\n",
    "ls_9 = pd.read_pickle(dx_path+fn+'_9.pickle')\n",
    "ls_10 = pd.read_pickle(dx_path+fn+'_10.pickle')\n",
    "all_ls = ls_9 + ls_10\n",
    "len(ls_9), len(ls_10),len(all_ls), al_ls [:3]"
   ]
  },
  {
   "cell_type": "code",
   "execution_count": 102,
   "metadata": {},
   "outputs": [
    {
     "data": {
      "text/html": [
       "<style  type=\"text/css\" >\n",
       "</style><table id=\"T_518589da_6070_11ed_b736_259e02b5cf17\" ><thead>    <tr>        <th class=\"blank level0\" ></th>        <th class=\"col_heading level0 col0\" >MCI_sl_b4idx</th>        <th class=\"col_heading level0 col1\" >patid</th>        <th class=\"col_heading level0 col2\" >rate</th>    </tr></thead><tbody>\n",
       "                <tr>\n",
       "                        <th id=\"T_518589da_6070_11ed_b736_259e02b5cf17level0_row0\" class=\"row_heading level0 row0\" >0</th>\n",
       "                        <td id=\"T_518589da_6070_11ed_b736_259e02b5cf17row0_col0\" class=\"data row0 col0\" >0</td>\n",
       "                        <td id=\"T_518589da_6070_11ed_b736_259e02b5cf17row0_col1\" class=\"data row0 col1\" >16562</td>\n",
       "                        <td id=\"T_518589da_6070_11ed_b736_259e02b5cf17row0_col2\" class=\"data row0 col2\" >100.0%</td>\n",
       "            </tr>\n",
       "            <tr>\n",
       "                        <th id=\"T_518589da_6070_11ed_b736_259e02b5cf17level0_row1\" class=\"row_heading level0 row1\" >1</th>\n",
       "                        <td id=\"T_518589da_6070_11ed_b736_259e02b5cf17row1_col0\" class=\"data row1 col0\" >1</td>\n",
       "                        <td id=\"T_518589da_6070_11ed_b736_259e02b5cf17row1_col1\" class=\"data row1 col1\" >593</td>\n",
       "                        <td id=\"T_518589da_6070_11ed_b736_259e02b5cf17row1_col2\" class=\"data row1 col2\" >3.58%</td>\n",
       "            </tr>\n",
       "    </tbody></table>"
      ],
      "text/plain": [
       "<pandas.io.formats.style.Styler at 0x7f1ab71ff580>"
      ]
     },
     "execution_count": 102,
     "metadata": {},
     "output_type": "execute_result"
    }
   ],
   "source": [
    "df['MCI_sl_b4idx'] = np.where(df.diag.isin(all_ls),1,0) # MCI short list\n",
    "patient(df, 'MCI_sl_b4idx')"
   ]
  },
  {
   "cell_type": "code",
   "execution_count": 103,
   "metadata": {},
   "outputs": [
    {
     "data": {
      "text/html": [
       "<style  type=\"text/css\" >\n",
       "</style><table id=\"T_6fc65ad2_6070_11ed_b736_259e02b5cf17\" ><thead>    <tr>        <th class=\"blank level0\" ></th>        <th class=\"col_heading level0 col0\" >MI_b4Idx_oldCode</th>        <th class=\"col_heading level0 col1\" >patid</th>        <th class=\"col_heading level0 col2\" >rate</th>    </tr></thead><tbody>\n",
       "                <tr>\n",
       "                        <th id=\"T_6fc65ad2_6070_11ed_b736_259e02b5cf17level0_row0\" class=\"row_heading level0 row0\" >0</th>\n",
       "                        <td id=\"T_6fc65ad2_6070_11ed_b736_259e02b5cf17row0_col0\" class=\"data row0 col0\" >0</td>\n",
       "                        <td id=\"T_6fc65ad2_6070_11ed_b736_259e02b5cf17row0_col1\" class=\"data row0 col1\" >16562</td>\n",
       "                        <td id=\"T_6fc65ad2_6070_11ed_b736_259e02b5cf17row0_col2\" class=\"data row0 col2\" >100.0%</td>\n",
       "            </tr>\n",
       "            <tr>\n",
       "                        <th id=\"T_6fc65ad2_6070_11ed_b736_259e02b5cf17level0_row1\" class=\"row_heading level0 row1\" >1</th>\n",
       "                        <td id=\"T_6fc65ad2_6070_11ed_b736_259e02b5cf17row1_col0\" class=\"data row1 col0\" >1</td>\n",
       "                        <td id=\"T_6fc65ad2_6070_11ed_b736_259e02b5cf17row1_col1\" class=\"data row1 col1\" >511</td>\n",
       "                        <td id=\"T_6fc65ad2_6070_11ed_b736_259e02b5cf17row1_col2\" class=\"data row1 col2\" >3.085%</td>\n",
       "            </tr>\n",
       "    </tbody></table>"
      ],
      "text/plain": [
       "<pandas.io.formats.style.Styler at 0x7f1a1952e430>"
      ]
     },
     "execution_count": 103,
     "metadata": {},
     "output_type": "execute_result"
    }
   ],
   "source": [
    "## Compare to MI codes for after index identification\n",
    "\n",
    "patient(df, 'MI_b4Idx_oldCode')"
   ]
  },
  {
   "cell_type": "markdown",
   "metadata": {},
   "source": [
    "### Tobacco"
   ]
  },
  {
   "cell_type": "code",
   "execution_count": 104,
   "metadata": {},
   "outputs": [
    {
     "data": {
      "text/plain": [
       "(2, 12, 14, ['30502', '30500', '30390'])"
      ]
     },
     "execution_count": 104,
     "metadata": {},
     "output_type": "execute_result"
    }
   ],
   "source": [
    "fn = 'tobacco'\n",
    "ls_9 = pd.read_pickle(dx_path+fn+'_9.pickle')\n",
    "ls_10 = pd.read_pickle(dx_path+fn+'_10.pickle')\n",
    "all_ls = ls_9 + ls_10\n",
    "len(ls_9), len(ls_10),len(all_ls), al_ls [:3]"
   ]
  },
  {
   "cell_type": "code",
   "execution_count": 105,
   "metadata": {},
   "outputs": [
    {
     "data": {
      "text/html": [
       "<style  type=\"text/css\" >\n",
       "</style><table id=\"T_c8ca226c_6070_11ed_b736_259e02b5cf17\" ><thead>    <tr>        <th class=\"blank level0\" ></th>        <th class=\"col_heading level0 col0\" >tobacco_b4idx</th>        <th class=\"col_heading level0 col1\" >patid</th>        <th class=\"col_heading level0 col2\" >rate</th>    </tr></thead><tbody>\n",
       "                <tr>\n",
       "                        <th id=\"T_c8ca226c_6070_11ed_b736_259e02b5cf17level0_row0\" class=\"row_heading level0 row0\" >0</th>\n",
       "                        <td id=\"T_c8ca226c_6070_11ed_b736_259e02b5cf17row0_col0\" class=\"data row0 col0\" >0</td>\n",
       "                        <td id=\"T_c8ca226c_6070_11ed_b736_259e02b5cf17row0_col1\" class=\"data row0 col1\" >16561</td>\n",
       "                        <td id=\"T_c8ca226c_6070_11ed_b736_259e02b5cf17row0_col2\" class=\"data row0 col2\" >99.99%</td>\n",
       "            </tr>\n",
       "            <tr>\n",
       "                        <th id=\"T_c8ca226c_6070_11ed_b736_259e02b5cf17level0_row1\" class=\"row_heading level0 row1\" >1</th>\n",
       "                        <td id=\"T_c8ca226c_6070_11ed_b736_259e02b5cf17row1_col0\" class=\"data row1 col0\" >1</td>\n",
       "                        <td id=\"T_c8ca226c_6070_11ed_b736_259e02b5cf17row1_col1\" class=\"data row1 col1\" >3669</td>\n",
       "                        <td id=\"T_c8ca226c_6070_11ed_b736_259e02b5cf17row1_col2\" class=\"data row1 col2\" >22.15%</td>\n",
       "            </tr>\n",
       "    </tbody></table>"
      ],
      "text/plain": [
       "<pandas.io.formats.style.Styler at 0x7f1ab71ffe80>"
      ]
     },
     "execution_count": 105,
     "metadata": {},
     "output_type": "execute_result"
    }
   ],
   "source": [
    "df['tobacco_b4idx'] = np.where(df.diag.isin(all_ls),1,0) \n",
    "patient(df, 'tobacco_b4idx')"
   ]
  },
  {
   "cell_type": "markdown",
   "metadata": {},
   "source": [
    "### PVD "
   ]
  },
  {
   "cell_type": "code",
   "execution_count": 106,
   "metadata": {},
   "outputs": [
    {
     "data": {
      "text/plain": [
       "(1, 1, 2, ['30502', '30500', '30390'])"
      ]
     },
     "execution_count": 106,
     "metadata": {},
     "output_type": "execute_result"
    }
   ],
   "source": [
    "fn = 'PVD'\n",
    "ls_9 = pd.read_pickle(dx_path+fn+'_9.pickle')\n",
    "ls_10 = pd.read_pickle(dx_path+fn+'_10.pickle')\n",
    "all_ls = ls_9 + ls_10\n",
    "len(ls_9), len(ls_10),len(all_ls), al_ls [:3]"
   ]
  },
  {
   "cell_type": "code",
   "execution_count": 107,
   "metadata": {},
   "outputs": [
    {
     "data": {
      "text/html": [
       "<style  type=\"text/css\" >\n",
       "</style><table id=\"T_636f7f74_6071_11ed_b736_259e02b5cf17\" ><thead>    <tr>        <th class=\"blank level0\" ></th>        <th class=\"col_heading level0 col0\" >PVD_b4idx</th>        <th class=\"col_heading level0 col1\" >patid</th>        <th class=\"col_heading level0 col2\" >rate</th>    </tr></thead><tbody>\n",
       "                <tr>\n",
       "                        <th id=\"T_636f7f74_6071_11ed_b736_259e02b5cf17level0_row0\" class=\"row_heading level0 row0\" >0</th>\n",
       "                        <td id=\"T_636f7f74_6071_11ed_b736_259e02b5cf17row0_col0\" class=\"data row0 col0\" >0</td>\n",
       "                        <td id=\"T_636f7f74_6071_11ed_b736_259e02b5cf17row0_col1\" class=\"data row0 col1\" >16561</td>\n",
       "                        <td id=\"T_636f7f74_6071_11ed_b736_259e02b5cf17row0_col2\" class=\"data row0 col2\" >99.99%</td>\n",
       "            </tr>\n",
       "            <tr>\n",
       "                        <th id=\"T_636f7f74_6071_11ed_b736_259e02b5cf17level0_row1\" class=\"row_heading level0 row1\" >1</th>\n",
       "                        <td id=\"T_636f7f74_6071_11ed_b736_259e02b5cf17row1_col0\" class=\"data row1 col0\" >1</td>\n",
       "                        <td id=\"T_636f7f74_6071_11ed_b736_259e02b5cf17row1_col1\" class=\"data row1 col1\" >953</td>\n",
       "                        <td id=\"T_636f7f74_6071_11ed_b736_259e02b5cf17row1_col2\" class=\"data row1 col2\" >5.754%</td>\n",
       "            </tr>\n",
       "    </tbody></table>"
      ],
      "text/plain": [
       "<pandas.io.formats.style.Styler at 0x7f1a19ab8d30>"
      ]
     },
     "execution_count": 107,
     "metadata": {},
     "output_type": "execute_result"
    }
   ],
   "source": [
    "df['PVD_b4idx'] = np.where(df.diag.isin(all_ls),1,0) \n",
    "patient(df, 'PVD_b4idx')"
   ]
  },
  {
   "cell_type": "markdown",
   "metadata": {},
   "source": [
    "### dyslipidemia"
   ]
  },
  {
   "cell_type": "code",
   "execution_count": 108,
   "metadata": {},
   "outputs": [
    {
     "data": {
      "text/plain": [
       "(1, 1, 2, ['30502', '30500', '30390'])"
      ]
     },
     "execution_count": 108,
     "metadata": {},
     "output_type": "execute_result"
    }
   ],
   "source": [
    "fn = 'dyslipidemia'\n",
    "ls_9 = pd.read_pickle(dx_path+fn+'_9.pickle')\n",
    "ls_10 = pd.read_pickle(dx_path+fn+'_10.pickle')\n",
    "all_ls = ls_9 + ls_10\n",
    "len(ls_9), len(ls_10),len(all_ls), al_ls [:3]"
   ]
  },
  {
   "cell_type": "code",
   "execution_count": 109,
   "metadata": {},
   "outputs": [
    {
     "data": {
      "text/html": [
       "<style  type=\"text/css\" >\n",
       "</style><table id=\"T_6d72eae6_6072_11ed_b736_259e02b5cf17\" ><thead>    <tr>        <th class=\"blank level0\" ></th>        <th class=\"col_heading level0 col0\" >dyslipidemia_b4idx</th>        <th class=\"col_heading level0 col1\" >patid</th>        <th class=\"col_heading level0 col2\" >rate</th>    </tr></thead><tbody>\n",
       "                <tr>\n",
       "                        <th id=\"T_6d72eae6_6072_11ed_b736_259e02b5cf17level0_row0\" class=\"row_heading level0 row0\" >0</th>\n",
       "                        <td id=\"T_6d72eae6_6072_11ed_b736_259e02b5cf17row0_col0\" class=\"data row0 col0\" >0</td>\n",
       "                        <td id=\"T_6d72eae6_6072_11ed_b736_259e02b5cf17row0_col1\" class=\"data row0 col1\" >16561</td>\n",
       "                        <td id=\"T_6d72eae6_6072_11ed_b736_259e02b5cf17row0_col2\" class=\"data row0 col2\" >99.99%</td>\n",
       "            </tr>\n",
       "            <tr>\n",
       "                        <th id=\"T_6d72eae6_6072_11ed_b736_259e02b5cf17level0_row1\" class=\"row_heading level0 row1\" >1</th>\n",
       "                        <td id=\"T_6d72eae6_6072_11ed_b736_259e02b5cf17row1_col0\" class=\"data row1 col0\" >1</td>\n",
       "                        <td id=\"T_6d72eae6_6072_11ed_b736_259e02b5cf17row1_col1\" class=\"data row1 col1\" >4995</td>\n",
       "                        <td id=\"T_6d72eae6_6072_11ed_b736_259e02b5cf17row1_col2\" class=\"data row1 col2\" >30.16%</td>\n",
       "            </tr>\n",
       "    </tbody></table>"
      ],
      "text/plain": [
       "<pandas.io.formats.style.Styler at 0x7f1ab71fa160>"
      ]
     },
     "execution_count": 109,
     "metadata": {},
     "output_type": "execute_result"
    }
   ],
   "source": [
    "df['dyslipidemia_b4idx'] = np.where(df.diag.isin(all_ls),1,0) \n",
    "patient(df, 'dyslipidemia_b4idx')"
   ]
  },
  {
   "cell_type": "markdown",
   "metadata": {},
   "source": [
    "### Stroke "
   ]
  },
  {
   "cell_type": "code",
   "execution_count": 110,
   "metadata": {},
   "outputs": [
    {
     "data": {
      "text/plain": [
       "(1, 1, 2, ['30502', '30500', '30390'])"
      ]
     },
     "execution_count": 110,
     "metadata": {},
     "output_type": "execute_result"
    }
   ],
   "source": [
    "fn = 'stroke'\n",
    "ls_9 = pd.read_pickle(dx_path+fn+'_9.pickle')\n",
    "ls_10 = pd.read_pickle(dx_path+fn+'_10.pickle')\n",
    "all_ls = ls_9 + ls_10\n",
    "len(ls_9), len(ls_10),len(all_ls), al_ls [:3]"
   ]
  },
  {
   "cell_type": "code",
   "execution_count": 115,
   "metadata": {},
   "outputs": [
    {
     "data": {
      "text/html": [
       "<style  type=\"text/css\" >\n",
       "</style><table id=\"T_e21915e6_6072_11ed_b736_259e02b5cf17\" ><thead>    <tr>        <th class=\"blank level0\" ></th>        <th class=\"col_heading level0 col0\" >stroke_b4idx</th>        <th class=\"col_heading level0 col1\" >patid</th>        <th class=\"col_heading level0 col2\" >rate</th>    </tr></thead><tbody>\n",
       "                <tr>\n",
       "                        <th id=\"T_e21915e6_6072_11ed_b736_259e02b5cf17level0_row0\" class=\"row_heading level0 row0\" >0</th>\n",
       "                        <td id=\"T_e21915e6_6072_11ed_b736_259e02b5cf17row0_col0\" class=\"data row0 col0\" >0</td>\n",
       "                        <td id=\"T_e21915e6_6072_11ed_b736_259e02b5cf17row0_col1\" class=\"data row0 col1\" >16558</td>\n",
       "                        <td id=\"T_e21915e6_6072_11ed_b736_259e02b5cf17row0_col2\" class=\"data row0 col2\" >99.98%</td>\n",
       "            </tr>\n",
       "            <tr>\n",
       "                        <th id=\"T_e21915e6_6072_11ed_b736_259e02b5cf17level0_row1\" class=\"row_heading level0 row1\" >1</th>\n",
       "                        <td id=\"T_e21915e6_6072_11ed_b736_259e02b5cf17row1_col0\" class=\"data row1 col0\" >1</td>\n",
       "                        <td id=\"T_e21915e6_6072_11ed_b736_259e02b5cf17row1_col1\" class=\"data row1 col1\" >5145</td>\n",
       "                        <td id=\"T_e21915e6_6072_11ed_b736_259e02b5cf17row1_col2\" class=\"data row1 col2\" >31.07%</td>\n",
       "            </tr>\n",
       "    </tbody></table>"
      ],
      "text/plain": [
       "<pandas.io.formats.style.Styler at 0x7f1ab71ff250>"
      ]
     },
     "execution_count": 115,
     "metadata": {},
     "output_type": "execute_result"
    }
   ],
   "source": [
    "df['stroke_b4idx'] = np.where(df.diag.isin(all_ls),1,0) \n",
    "patient(df, 'stroke_b4idx')"
   ]
  },
  {
   "cell_type": "markdown",
   "metadata": {},
   "source": [
    "### phtn"
   ]
  },
  {
   "cell_type": "code",
   "execution_count": 112,
   "metadata": {},
   "outputs": [
    {
     "data": {
      "text/plain": [
       "(2, 23, 25, ['30502', '30500', '30390'])"
      ]
     },
     "execution_count": 112,
     "metadata": {},
     "output_type": "execute_result"
    }
   ],
   "source": [
    "fn = 'phtn'\n",
    "ls_9 = pd.read_pickle(dx_path+fn+'_9.pickle')\n",
    "ls_10 = pd.read_pickle(dx_path+fn+'_10.pickle')\n",
    "all_ls = ls_9 + ls_10\n",
    "len(ls_9), len(ls_10),len(all_ls), al_ls [:3]"
   ]
  },
  {
   "cell_type": "code",
   "execution_count": 117,
   "metadata": {},
   "outputs": [
    {
     "data": {
      "text/html": [
       "<style  type=\"text/css\" >\n",
       "</style><table id=\"T_f261f558_6072_11ed_b736_259e02b5cf17\" ><thead>    <tr>        <th class=\"blank level0\" ></th>        <th class=\"col_heading level0 col0\" >phtn_b4idx</th>        <th class=\"col_heading level0 col1\" >patid</th>        <th class=\"col_heading level0 col2\" >rate</th>    </tr></thead><tbody>\n",
       "                <tr>\n",
       "                        <th id=\"T_f261f558_6072_11ed_b736_259e02b5cf17level0_row0\" class=\"row_heading level0 row0\" >0</th>\n",
       "                        <td id=\"T_f261f558_6072_11ed_b736_259e02b5cf17row0_col0\" class=\"data row0 col0\" >0</td>\n",
       "                        <td id=\"T_f261f558_6072_11ed_b736_259e02b5cf17row0_col1\" class=\"data row0 col1\" >16558</td>\n",
       "                        <td id=\"T_f261f558_6072_11ed_b736_259e02b5cf17row0_col2\" class=\"data row0 col2\" >99.98%</td>\n",
       "            </tr>\n",
       "            <tr>\n",
       "                        <th id=\"T_f261f558_6072_11ed_b736_259e02b5cf17level0_row1\" class=\"row_heading level0 row1\" >1</th>\n",
       "                        <td id=\"T_f261f558_6072_11ed_b736_259e02b5cf17row1_col0\" class=\"data row1 col0\" >1</td>\n",
       "                        <td id=\"T_f261f558_6072_11ed_b736_259e02b5cf17row1_col1\" class=\"data row1 col1\" >5145</td>\n",
       "                        <td id=\"T_f261f558_6072_11ed_b736_259e02b5cf17row1_col2\" class=\"data row1 col2\" >31.07%</td>\n",
       "            </tr>\n",
       "    </tbody></table>"
      ],
      "text/plain": [
       "<pandas.io.formats.style.Styler at 0x7f1ab71facd0>"
      ]
     },
     "execution_count": 117,
     "metadata": {},
     "output_type": "execute_result"
    }
   ],
   "source": [
    "df['phtn_b4idx'] = np.where(df.diag.isin(all_ls),1,0) \n",
    "patient(df, 'phtn_b4idx')"
   ]
  },
  {
   "cell_type": "markdown",
   "metadata": {},
   "source": [
    "### BMI"
   ]
  },
  {
   "cell_type": "code",
   "execution_count": 119,
   "metadata": {},
   "outputs": [
    {
     "data": {
      "text/plain": [
       "(17, 23, 40, ['30502', '30500', '30390'])"
      ]
     },
     "execution_count": 119,
     "metadata": {},
     "output_type": "execute_result"
    }
   ],
   "source": [
    "fn = 'bmi'\n",
    "ls_9 = pd.read_pickle(dx_path+fn+'_9.pickle')\n",
    "ls_10 = pd.read_pickle(dx_path+fn+'_10.pickle')\n",
    "all_ls = ls_9 + ls_10\n",
    "len(ls_9), len(ls_10),len(all_ls), al_ls [:3]"
   ]
  },
  {
   "cell_type": "code",
   "execution_count": 120,
   "metadata": {},
   "outputs": [
    {
     "data": {
      "text/html": [
       "<style  type=\"text/css\" >\n",
       "</style><table id=\"T_13f79bdc_6073_11ed_b736_259e02b5cf17\" ><thead>    <tr>        <th class=\"blank level0\" ></th>        <th class=\"col_heading level0 col0\" >bmi_b4idx</th>        <th class=\"col_heading level0 col1\" >patid</th>        <th class=\"col_heading level0 col2\" >rate</th>    </tr></thead><tbody>\n",
       "                <tr>\n",
       "                        <th id=\"T_13f79bdc_6073_11ed_b736_259e02b5cf17level0_row0\" class=\"row_heading level0 row0\" >0</th>\n",
       "                        <td id=\"T_13f79bdc_6073_11ed_b736_259e02b5cf17row0_col0\" class=\"data row0 col0\" >0</td>\n",
       "                        <td id=\"T_13f79bdc_6073_11ed_b736_259e02b5cf17row0_col1\" class=\"data row0 col1\" >16562</td>\n",
       "                        <td id=\"T_13f79bdc_6073_11ed_b736_259e02b5cf17row0_col2\" class=\"data row0 col2\" >100.0%</td>\n",
       "            </tr>\n",
       "            <tr>\n",
       "                        <th id=\"T_13f79bdc_6073_11ed_b736_259e02b5cf17level0_row1\" class=\"row_heading level0 row1\" >1</th>\n",
       "                        <td id=\"T_13f79bdc_6073_11ed_b736_259e02b5cf17row1_col0\" class=\"data row1 col0\" >1</td>\n",
       "                        <td id=\"T_13f79bdc_6073_11ed_b736_259e02b5cf17row1_col1\" class=\"data row1 col1\" >1805</td>\n",
       "                        <td id=\"T_13f79bdc_6073_11ed_b736_259e02b5cf17row1_col2\" class=\"data row1 col2\" >10.9%</td>\n",
       "            </tr>\n",
       "    </tbody></table>"
      ],
      "text/plain": [
       "<pandas.io.formats.style.Styler at 0x7f1ab71ffd90>"
      ]
     },
     "execution_count": 120,
     "metadata": {},
     "output_type": "execute_result"
    }
   ],
   "source": [
    "df['bmi_b4idx'] = np.where(df.diag.isin(all_ls),1,0) \n",
    "patient(df, 'bmi_b4idx')"
   ]
  },
  {
   "cell_type": "markdown",
   "metadata": {},
   "source": [
    "## Output label before index"
   ]
  },
  {
   "cell_type": "code",
   "execution_count": 122,
   "metadata": {},
   "outputs": [
    {
     "name": "stdout",
     "output_type": "stream",
     "text": [
      "<class 'pandas.core.frame.DataFrame'>\n",
      "RangeIndex: 3869795 entries, 0 to 3869794\n",
      "Data columns (total 18 columns):\n",
      " #   Column                Dtype \n",
      "---  ------                ----- \n",
      " 0   patid                 int64 \n",
      " 1   fst_dt                object\n",
      " 2   icd_flag              int64 \n",
      " 3   diag                  object\n",
      " 4   index_day             object\n",
      " 5   day_gap               int64 \n",
      " 6   MI_b4Idx_oldCode      int64 \n",
      " 7   alcohol_b4idx         int64 \n",
      " 8   CAD_b4idx             int64 \n",
      " 9   hypertension_b4idx    int64 \n",
      " 10  diabeteMCIcode_b4idx  int64 \n",
      " 11  MCI_sl_b4idx          int64 \n",
      " 12  tobacco_b4idx         int64 \n",
      " 13  PVD_b4idx             int64 \n",
      " 14  dyslipidemia_b4idx    int64 \n",
      " 15  stroke_b4idx          int64 \n",
      " 16  phtn_b4idx            int64 \n",
      " 17  bmi_b4idx             int64 \n",
      "dtypes: int64(15), object(3)\n",
      "memory usage: 531.4+ MB\n"
     ]
    }
   ],
   "source": [
    "df.info()"
   ]
  },
  {
   "cell_type": "code",
   "execution_count": 123,
   "metadata": {},
   "outputs": [],
   "source": [
    "df.to_csv(in_path+'temp_diagnosis_b4idx_label.csv',index=False)"
   ]
  }
 ],
 "metadata": {
  "kernelspec": {
   "display_name": "base",
   "language": "python",
   "name": "python3"
  },
  "language_info": {
   "codemirror_mode": {
    "name": "ipython",
    "version": 3
   },
   "file_extension": ".py",
   "mimetype": "text/x-python",
   "name": "python",
   "nbconvert_exporter": "python",
   "pygments_lexer": "ipython3",
   "version": "3.8.8"
  },
  "orig_nbformat": 4
 },
 "nbformat": 4,
 "nbformat_minor": 2
}
